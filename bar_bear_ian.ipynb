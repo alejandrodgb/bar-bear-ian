{
  "nbformat": 4,
  "nbformat_minor": 0,
  "metadata": {
    "colab": {
      "name": "bar-bear-ian.ipynb",
      "provenance": [],
      "authorship_tag": "ABX9TyP3HnBFnYzKoSiVKBzSvyEu"
    },
    "kernelspec": {
      "name": "python3",
      "display_name": "Python 3"
    },
    "language_info": {
      "name": "python"
    }
  },
  "cells": [
    {
      "cell_type": "markdown",
      "source": [
        "# Bar-bear-ian\n",
        "\n",
        "Your best friend in the wild!"
      ],
      "metadata": {
        "id": "AH40Xr4Fzs5U"
      }
    },
    {
      "cell_type": "code",
      "execution_count": 3,
      "metadata": {
        "id": "XU-Sx_YntE3o"
      },
      "outputs": [],
      "source": [
        "from fastai.vision.all import *\n",
        "from fastai.vision.widgets import *"
      ]
    },
    {
      "cell_type": "code",
      "source": [
        "path = Path()\n",
        "learn_inf = load_learner(path/'fastai_02_production.pkl', cpu=True)\n",
        "btn_upload = widgets.FileUpload()\n",
        "out_pl = widgets.Output()\n",
        "lbl_pred = widgets.Label()"
      ],
      "metadata": {
        "id": "Ui7o0-HFwbsi"
      },
      "execution_count": 4,
      "outputs": []
    },
    {
      "cell_type": "code",
      "source": [
        "def on_click_classify(change):\n",
        "    lbl_pred.value = ''\n",
        "    img = PILImage.create(btn_upload.data[-1])\n",
        "    out_pl.clear_output()\n",
        "    with out_pl: display(img.to_thumb(128,128))\n",
        "    pred,pred_idx,probs = learn_inf.predict(img)\n",
        "    lbl_pred.value = f'I am {probs[pred_idx]*100:.02f}% sure this is a {pred} bear'\n",
        "    "
      ],
      "metadata": {
        "id": "u4gqIlwHxmwl"
      },
      "execution_count": null,
      "outputs": []
    },
    {
      "cell_type": "code",
      "source": [
        "btn_upload.observe(on_click_classify, names=['data'])"
      ],
      "metadata": {
        "id": "ctHQ13bpze_d"
      },
      "execution_count": null,
      "outputs": []
    },
    {
      "cell_type": "code",
      "source": [
        "display(VBox([widgets.Label('Select your bear!'), btn_upload, out_pl, lbl_pred]))"
      ],
      "metadata": {
        "id": "dF_a1P6KznJh"
      },
      "execution_count": null,
      "outputs": []
    }
  ]
}